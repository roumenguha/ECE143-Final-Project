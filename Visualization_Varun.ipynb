{
 "cells": [
  {
   "cell_type": "code",
   "execution_count": 1,
   "metadata": {},
   "outputs": [
    {
     "ename": "ModuleNotFoundError",
     "evalue": "No module named 'sklearn'",
     "output_type": "error",
     "traceback": [
      "\u001b[0;31m---------------------------------------------------------------------------\u001b[0m",
      "\u001b[0;31mModuleNotFoundError\u001b[0m                       Traceback (most recent call last)",
      "\u001b[0;32m<ipython-input-1-2998599ae0bf>\u001b[0m in \u001b[0;36m<module>\u001b[0;34m\u001b[0m\n\u001b[1;32m      7\u001b[0m \u001b[0;32mimport\u001b[0m \u001b[0mseaborn\u001b[0m \u001b[0;32mas\u001b[0m \u001b[0msns\u001b[0m\u001b[0;34m\u001b[0m\u001b[0;34m\u001b[0m\u001b[0m\n\u001b[1;32m      8\u001b[0m \u001b[0;34m\u001b[0m\u001b[0m\n\u001b[0;32m----> 9\u001b[0;31m \u001b[0;32mfrom\u001b[0m \u001b[0msklearn\u001b[0m \u001b[0;32mimport\u001b[0m \u001b[0mdatasets\u001b[0m\u001b[0;34m,\u001b[0m \u001b[0mlinear_model\u001b[0m\u001b[0;34m\u001b[0m\u001b[0;34m\u001b[0m\u001b[0m\n\u001b[0m\u001b[1;32m     10\u001b[0m \u001b[0;32mfrom\u001b[0m \u001b[0msklearn\u001b[0m\u001b[0;34m.\u001b[0m\u001b[0mmetrics\u001b[0m \u001b[0;32mimport\u001b[0m \u001b[0mmean_squared_error\u001b[0m\u001b[0;34m,\u001b[0m \u001b[0mr2_score\u001b[0m\u001b[0;34m\u001b[0m\u001b[0;34m\u001b[0m\u001b[0m\n\u001b[1;32m     11\u001b[0m \u001b[0;34m\u001b[0m\u001b[0m\n",
      "\u001b[0;31mModuleNotFoundError\u001b[0m: No module named 'sklearn'"
     ]
    }
   ],
   "source": [
    "from functools import reduce\n",
    "\n",
    "import numpy as np\n",
    "import pandas as pd\n",
    "\n",
    "from matplotlib import pyplot as plt \n",
    "import seaborn as sns\n",
    "\n",
    "from sklearn import datasets, linear_model\n",
    "from sklearn.metrics import mean_squared_error, r2_score\n",
    "\n",
    "\n",
    "%config InlineBackend.figure_format = 'retina'\n",
    "%matplotlib inline\n",
    "\n",
    "plt.style.use('seaborn')\n"
   ]
  },
  {
   "cell_type": "markdown",
   "metadata": {},
   "source": [
    "# Preprocess data"
   ]
  },
  {
   "cell_type": "code",
   "execution_count": null,
   "metadata": {},
   "outputs": [],
   "source": [
    "\n",
    "ecological = pd.read_csv(\"./Data/countries.csv\")\n",
    "happiness = pd.read_csv(\"./Data/2016.csv\")\n",
    "data = reduce(lambda left, right: pd.merge(left, right, on='Country'), [ecological, happiness])\n",
    "\n",
    "print(data.isnull().values.any()) # Check if any contain NaNs\n",
    "data[data.isna().any(axis=1)] # Display which ones contain NaN\n",
    "\n",
    "data = data.dropna(how='any')\n",
    "\n",
    "data.to_csv('./Data/data.csv', index = False)\n"
   ]
  },
  {
   "cell_type": "markdown",
   "metadata": {},
   "source": [
    "# Import CSV\n"
   ]
  },
  {
   "cell_type": "code",
   "execution_count": null,
   "metadata": {},
   "outputs": [],
   "source": [
    "data = pd.read_csv(\"./Data/data.csv\")\n",
    "data['GDP per Capita'] = data['GDP per Capita'].replace('[\\$,]', '', regex=True).astype(float)\n"
   ]
  },
  {
   "cell_type": "markdown",
   "metadata": {},
   "source": [
    "# Plot correlation between amount of land type and footprint of that type\n",
    "\n",
    "The countries with the most fishing water are likely to have the largest fish footprint, and a country with no fishing water cannot possibly have any fish footprint.\n",
    "\n",
    "This leads us to ask, <em>\"Is there a  'normal' footprint/sq.ft of each type of land?\"</em>\n",
    "\n",
    "How much do countries tend to create footprint from their type of land and which countries are outliers? Understanding this will give us a better idea of which countries have low footprints despite having a lot of land. \n",
    "\n",
    "With this data, we can dig into why outlier countries overperform in ecological conscientiousness. Asking questions about whether region, economic growth, and mental state are reasons for why these countries overperform."
   ]
  },
  {
   "cell_type": "code",
   "execution_count": null,
   "metadata": {},
   "outputs": [],
   "source": [
    "\n",
    "lands = ['Cropland', 'Grazing Land', 'Forest Land','Urban Land', 'Fishing Water', 'Total Biocapacity']\n",
    "fps = ['Cropland Footprint', 'Grazing Footprint', 'Forest Footprint', 'Carbon Footprint', 'Fish Footprint', 'Total Ecological Footprint']\n",
    "\n",
    "for i, (land, footprint) in enumerate(list(zip(lands, fps))):\n",
    "    \n",
    "    # Plot scatter of area type vs footprint for all countries\n",
    "    plt.scatter(data[land].values, data[footprint].values)\n",
    "    plt.xlabel(land)\n",
    "    plt.ylabel(footprint)\n",
    "    \n",
    "    # fit linear regression line and plot correlation\n",
    "    inputs = data[land].values.reshape(-1, 1)\n",
    "    outputs = data[footprint].values\n",
    "    \n",
    "    regr = linear_model.LinearRegression()\n",
    "    regr.fit(inputs, outputs)    \n",
    "    preds = regr.predict(inputs)\n",
    "  \n",
    "    # plot correlation with r^2 value\n",
    "    plt.plot(inputs, preds, color='black', linewidth=1)\n",
    "    plt.title(f'{land} vs. {footprint}')\n",
    "    \n",
    "    # make sure text appears in similar location on all plots\n",
    "    xcoo = max(inputs)*0.75\n",
    "    ycoo = max(inputs)*0.05\n",
    "    plt.ylim(bottom=0)\n",
    "    plt.text(xcoo,0,f\"r_squared: {r2_score(outputs, preds):.4f}\", fontsize=15)\n",
    "    \n",
    "    plt.show()\n",
    "#     break"
   ]
  },
  {
   "cell_type": "code",
   "execution_count": null,
   "metadata": {},
   "outputs": [],
   "source": [
    "\"\"\"\n",
    "Manually identified visual outliers\n",
    "\"\"\"\n",
    "for i, (land, footprint) in enumerate(list(zip(lands, fps))):\n",
    "    if i != 4: continue\n",
    "    # Plot scatter of area type vs footprint for all countries\n",
    "#     (data[land].values, data[footprint].values)\n",
    "    \n",
    "    print(data.sort_values(land,ascending=False)[['Country', land, footprint]])\n",
    "\n",
    "#     print(data[data[footprint] < 1.0].sort_values(land, ascending=False)[['Country', land, footprint]])\n",
    "    \n",
    "    break\n",
    "    "
   ]
  },
  {
   "cell_type": "markdown",
   "metadata": {},
   "source": [
    "# Manually identified best and worst countries in each area\n",
    "## Cropland vs Cropland Footprint\n",
    "\n",
    "**R<sup>2</sup>: 0.6183**\n",
    "\n",
    "No visual outliers\n",
    "\n",
    "Inline: Australia\n",
    "\n",
    "## Grazing land vd grazing Footprint\n",
    "\n",
    "**R<sup>2</sup>: 0.5757**\n",
    "\n",
    "3 underperformers: Australia, Uruguay, Gabon\n",
    "\n",
    "1 outperformer: Bolivia\n",
    "\n",
    "1 super-outperformer: Mongolia\n",
    "\n",
    "## Forest Land vs forest Footprint\n",
    "\n",
    "**R<sup>2</sup>: 0.0232**\n",
    "\n",
    "1 super-underperformer: Suriname\n",
    "\n",
    "1 underperformer: Bolivia\n",
    "\n",
    "2 super-overperformers: Bhutan, Latvia\n",
    "\n",
    "## Urban land vs Carbon Footprint\n",
    "\n",
    "**R<sup>2</sup>: 0.0762**\n",
    "\n",
    "1 underperformer: Bhutan\n",
    "\n",
    "many overperformers: 'Qatar' 'Trinidad and Tobago' 'Kuwait , 'United Arab Emirates' 'Bahrain'\n",
    "\n",
    "1 super overperformer: Luxembourg\n",
    "\n",
    "## Fishing water vs Fish Footprint\n",
    "\n",
    "**R<sup>2</sup>: 0.1176**\n",
    "\n",
    "2 underperformers: Suriname, Canada\n",
    "\n",
    "3 super overperformers: Namibia, New Zealand, Mauritius"
   ]
  },
  {
   "cell_type": "code",
   "execution_count": null,
   "metadata": {},
   "outputs": [],
   "source": []
  }
 ],
 "metadata": {
  "kernelspec": {
   "display_name": "Python 3",
   "language": "python",
   "name": "python3"
  },
  "language_info": {
   "codemirror_mode": {
    "name": "ipython",
    "version": 3
   },
   "file_extension": ".py",
   "mimetype": "text/x-python",
   "name": "python",
   "nbconvert_exporter": "python",
   "pygments_lexer": "ipython3",
   "version": "3.8.3"
  }
 },
 "nbformat": 4,
 "nbformat_minor": 4
}
