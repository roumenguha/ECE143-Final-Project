{
 "cells": [
  {
   "cell_type": "code",
   "execution_count": null,
   "metadata": {},
   "outputs": [],
   "source": [
    "from functools import reduce\n",
    "\n",
    "import numpy as np\n",
    "import pandas as pd\n",
    "\n",
    "from matplotlib import pyplot as plt \n",
    "import seaborn as sns\n",
    "\n",
    "from polyfit import polyfit \n",
    "from regress import regress\n",
    "\n",
    "%config InlineBackend.figure_format = 'retina'\n",
    "%matplotlib inline"
   ]
  },
  {
   "cell_type": "code",
   "execution_count": null,
   "metadata": {},
   "outputs": [],
   "source": [
    "data = pd.read_csv(\"./Data/data.csv\")\n",
    "data\n",
    "print(data.columns)"
   ]
  },
  {
   "cell_type": "code",
   "execution_count": null,
   "metadata": {},
   "outputs": [],
   "source": [
    "footprints = ['Cropland Footprint', 'Grazing Footprint', 'Forest Footprint',\n",
    "       'Carbon Footprint', 'Fish Footprint', 'Total Ecological Footprint']\n",
    "\n",
    "capacities = ['Cropland', 'Grazing Land', 'Forest Land', \n",
    "              'Urban Land', 'Fishing Water', 'Total Biocapacity']\n",
    "\n",
    "# plot setup \n",
    "plt.style.use('seaborn')\n",
    "style = dict(size=10, color='gray')\n",
    "gdpColors = list(reversed(sns.color_palette(\"viridis\",as_cmap=False,n_colors=6)))\n"
   ]
  },
  {
   "cell_type": "code",
   "execution_count": null,
   "metadata": {},
   "outputs": [],
   "source": [
    "# Plots 1 & 2 [Footprints v. Cap & Footprints v. GDP]\n",
    "\n",
    "plt.figure(figsize=(20, 10))\n",
    "annotate = 4\n",
    "for i,f in enumerate(footprints):\n",
    "    plt.subplot(2,3,i+1)\n",
    "    plt.title(f + ' v. Capacity')\n",
    "    plt.scatter(data[capacities[i]], (data[f]), marker='o', color=gdpColors[i])\n",
    "    plt.xlabel(capacities[i])\n",
    "    plt.ylabel('Footprint')\n",
    "    if (annotate == i+1):\n",
    "        [txt,p,x,y] = regress(data[capacities[i]],data[f],1)\n",
    "        plt.text(0,-3,txt)\n",
    "        plt.plot(x,y)\n",
    "plt.show()\n",
    "\n",
    "\n",
    "plt.figure(figsize=(20, 10))\n",
    "annotate = 6\n",
    "for i,f in enumerate(footprints):\n",
    "    plt.subplot(2,3,i+1)\n",
    "    plt.title(f + ' v. GDP Per Capita')\n",
    "    plt.scatter(data['GDP per Capita'], (data[f]), marker='o', color=gdpColors[i])\n",
    "    plt.xlabel('GDP per Capita')\n",
    "    plt.ylabel('Footprint')\n",
    "    if (annotate == i+1):\n",
    "        [txt,p,x,y] = regress(data['GDP per Capita'],data[f],3)\n",
    "        plt.text(0,-3,txt)\n",
    "        plt.plot(x,y)\n",
    "plt.show()"
   ]
  },
  {
   "cell_type": "code",
   "execution_count": null,
   "metadata": {},
   "outputs": [],
   "source": [
    "# Plots 3 & 4 [Footprints v. Happiness & Bhutan]\n",
    "\n",
    "low = data[data['GDP per Capita']<=20000]\n",
    "med = data[(data['GDP per Capita']>20000) & (data['GDP per Capita']<=60000)]\n",
    "hi = data[(data['GDP per Capita']>60000)]\n",
    "top = 3\n",
    "offset = 0.08\n",
    "\n",
    "fig,axs = plt.subplots(2,3,figsize=(20, 10))\n",
    "axs = axs.ravel()\n",
    "annotate = 6\n",
    "print(gdpColors)\n",
    "for i,f in enumerate(footprints):\n",
    "    max2s = sorted(data[f], reverse=True)[:top]\n",
    "    idxs = [data.index[data[f]==ymax] for ymax in max2s]\n",
    "    max1s = [data['Happiness Score'][idx].values[0] for idx in idxs]\n",
    "    for k in range(len(max1s)):\n",
    "        axs[i].text(max1s[k]+offset,max2s[k],data['Country'][idxs[k]].values[0], **style)\n",
    "    for j,datas in enumerate([low,med,hi]):\n",
    "        axs[i].set_title(f + ' v. Happiness Score')\n",
    "        axs[i].scatter(datas['Happiness Score'],(datas[f]), marker='o', color=gdpColors[j*2])\n",
    "        axs[i].set_xlabel('Happiness Score')\n",
    "        axs[i].set_ylabel('Footprint')\n",
    "    if annotate == i+1:\n",
    "        [txt,p,x,y] = regress(data['Happiness Score'].values,data[f].values,2)\n",
    "        axs[i].plot(x,y)\n",
    "        axs[i].text(min(data['Happiness Score']),-3,txt)\n",
    "fig.legend(['less than 20k','between 20k & 60k','greater than 60k'],bbox_to_anchor=(1.05,.85),title='GDP per Capita ($)',title_fontsize=16,fontsize=16,frameon=True)\n",
    "plt.show() \n",
    "\n",
    "\n",
    "bhutanidx = data.index[data['Country']=='Bhutan']\n",
    "bhutany = data['Total Ecological Footprint'][bhutanidx].values[0]\n",
    "bhutanx = data['Happiness Score'][bhutanidx].values[0]\n",
    "\n",
    "plt.figure(figsize=(20, 10))\n",
    "style = dict(size=12, color='black')\n",
    "for j,datas in enumerate([low,med,hi]):\n",
    "    plt.scatter(datas['Happiness Score'],(datas['Total Ecological Footprint']), marker='o', color=gdpColors[j*2])\n",
    "plt.title('Total Ecological Footprint v. Happiness Score')\n",
    "plt.xlabel('Happiness Score')\n",
    "plt.ylabel('Footprint')\n",
    "plt.text(bhutanx- offset,bhutany+2*offset,'Bhutan', **style)\n",
    "plt.show()"
   ]
  }
 ],
 "metadata": {
  "kernelspec": {
   "display_name": "Python 3",
   "language": "python",
   "name": "python3"
  },
  "language_info": {
   "codemirror_mode": {
    "name": "ipython",
    "version": 3
   },
   "file_extension": ".py",
   "mimetype": "text/x-python",
   "name": "python",
   "nbconvert_exporter": "python",
   "pygments_lexer": "ipython3",
   "version": "3.8.3"
  }
 },
 "nbformat": 4,
 "nbformat_minor": 4
}
