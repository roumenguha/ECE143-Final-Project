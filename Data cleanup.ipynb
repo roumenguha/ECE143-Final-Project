{
 "metadata": {
  "language_info": {
   "codemirror_mode": {
    "name": "ipython",
    "version": 3
   },
   "file_extension": ".py",
   "mimetype": "text/x-python",
   "name": "python",
   "nbconvert_exporter": "python",
   "pygments_lexer": "ipython3",
   "version": "3.6.10-final"
  },
  "orig_nbformat": 2,
  "kernelspec": {
   "name": "python3",
   "display_name": "Python 3"
  }
 },
 "nbformat": 4,
 "nbformat_minor": 2,
 "cells": [
  {
   "cell_type": "code",
   "execution_count": 1,
   "metadata": {},
   "outputs": [],
   "source": [
    "from functools import reduce\n",
    "\n",
    "import numpy as np \n",
    "from matplotlib import pyplot as plt \n",
    "import seaborn as sea\n",
    "import pandas as pd"
   ]
  },
  {
   "source": [
    "# Import __[Global Ecological Footprint 2016](https://www.kaggle.com/footprintnetwork/ecological-footprint)__ dataset"
   ],
   "cell_type": "markdown",
   "metadata": {}
  },
  {
   "cell_type": "code",
   "execution_count": 2,
   "metadata": {},
   "outputs": [
    {
     "output_type": "execute_result",
     "data": {
      "text/plain": [
       "                       Country                    Region  \\\n",
       "0                  Afghanistan  Middle East/Central Asia   \n",
       "1                      Albania   Northern/Eastern Europe   \n",
       "2                      Algeria                    Africa   \n",
       "3                       Angola                    Africa   \n",
       "4          Antigua and Barbuda             Latin America   \n",
       "..                         ...                       ...   \n",
       "183                    Vietnam              Asia-Pacific   \n",
       "184  Wallis and Futuna Islands              Asia-Pacific   \n",
       "185                      Yemen  Middle East/Central Asia   \n",
       "186                     Zambia                    Africa   \n",
       "187                   Zimbabwe                    Africa   \n",
       "\n",
       "     Population (millions)   HDI GDP per Capita  Cropland Footprint  \\\n",
       "0                    29.82  0.46        $614.66                0.30   \n",
       "1                     3.16  0.73      $4,534.37                0.78   \n",
       "2                    38.48  0.73      $5,430.57                0.60   \n",
       "3                    20.82  0.52      $4,665.91                0.33   \n",
       "4                     0.09  0.78     $13,205.10                 NaN   \n",
       "..                     ...   ...            ...                 ...   \n",
       "183                  90.80  0.66      $1,532.31                0.50   \n",
       "184                   0.01   NaN            NaN                 NaN   \n",
       "185                  23.85  0.50      $1,302.30                0.34   \n",
       "186                  14.08  0.58      $1,740.64                0.19   \n",
       "187                  13.72  0.49        $865.91                0.20   \n",
       "\n",
       "     Grazing Footprint  Forest Footprint  Carbon Footprint  Fish Footprint  \\\n",
       "0                 0.20              0.08              0.18            0.00   \n",
       "1                 0.22              0.25              0.87            0.02   \n",
       "2                 0.16              0.17              1.14            0.01   \n",
       "3                 0.15              0.12              0.20            0.09   \n",
       "4                  NaN               NaN               NaN             NaN   \n",
       "..                 ...               ...               ...             ...   \n",
       "183               0.01              0.19              0.79            0.05   \n",
       "184                NaN               NaN               NaN             NaN   \n",
       "185               0.14              0.04              0.42            0.04   \n",
       "186               0.18              0.33              0.24            0.01   \n",
       "187               0.32              0.29              0.53            0.01   \n",
       "\n",
       "     ...  Cropland  Grazing Land  Forest Land  Fishing Water  Urban Land  \\\n",
       "0    ...      0.24          0.20         0.02           0.00        0.04   \n",
       "1    ...      0.55          0.21         0.29           0.07        0.06   \n",
       "2    ...      0.24          0.27         0.03           0.01        0.03   \n",
       "3    ...      0.20          1.42         0.64           0.26        0.04   \n",
       "4    ...       NaN           NaN          NaN            NaN         NaN   \n",
       "..   ...       ...           ...          ...            ...         ...   \n",
       "183  ...      0.55          0.01         0.17           0.16        0.10   \n",
       "184  ...       NaN           NaN          NaN            NaN         NaN   \n",
       "185  ...      0.09          0.12         0.04           0.20        0.04   \n",
       "186  ...      0.24          0.94         0.99           0.02        0.04   \n",
       "187  ...      0.15          0.32         0.12           0.01        0.02   \n",
       "\n",
       "     Total Biocapacity  Biocapacity Deficit or Reserve  Earths Required  \\\n",
       "0                 0.50                           -0.30             0.46   \n",
       "1                 1.18                           -1.03             1.27   \n",
       "2                 0.59                           -1.53             1.22   \n",
       "3                 2.55                            1.61             0.54   \n",
       "4                 0.94                           -4.44             3.11   \n",
       "..                 ...                             ...              ...   \n",
       "183               1.00                           -0.65             0.95   \n",
       "184               1.51                           -0.56             1.19   \n",
       "185               0.50                           -0.53             0.59   \n",
       "186               2.23                            1.24             0.57   \n",
       "187               0.62                           -0.75             0.79   \n",
       "\n",
       "     Countries Required  Data Quality  \n",
       "0                  1.60             6  \n",
       "1                  1.87             6  \n",
       "2                  3.61             5  \n",
       "3                  0.37             6  \n",
       "4                  5.70             2  \n",
       "..                  ...           ...  \n",
       "183                1.66             6  \n",
       "184                1.37            3T  \n",
       "185                2.06             5  \n",
       "186                0.44             6  \n",
       "187                2.20             6  \n",
       "\n",
       "[188 rows x 21 columns]"
      ],
      "text/html": "<div>\n<style scoped>\n    .dataframe tbody tr th:only-of-type {\n        vertical-align: middle;\n    }\n\n    .dataframe tbody tr th {\n        vertical-align: top;\n    }\n\n    .dataframe thead th {\n        text-align: right;\n    }\n</style>\n<table border=\"1\" class=\"dataframe\">\n  <thead>\n    <tr style=\"text-align: right;\">\n      <th></th>\n      <th>Country</th>\n      <th>Region</th>\n      <th>Population (millions)</th>\n      <th>HDI</th>\n      <th>GDP per Capita</th>\n      <th>Cropland Footprint</th>\n      <th>Grazing Footprint</th>\n      <th>Forest Footprint</th>\n      <th>Carbon Footprint</th>\n      <th>Fish Footprint</th>\n      <th>...</th>\n      <th>Cropland</th>\n      <th>Grazing Land</th>\n      <th>Forest Land</th>\n      <th>Fishing Water</th>\n      <th>Urban Land</th>\n      <th>Total Biocapacity</th>\n      <th>Biocapacity Deficit or Reserve</th>\n      <th>Earths Required</th>\n      <th>Countries Required</th>\n      <th>Data Quality</th>\n    </tr>\n  </thead>\n  <tbody>\n    <tr>\n      <th>0</th>\n      <td>Afghanistan</td>\n      <td>Middle East/Central Asia</td>\n      <td>29.82</td>\n      <td>0.46</td>\n      <td>$614.66</td>\n      <td>0.30</td>\n      <td>0.20</td>\n      <td>0.08</td>\n      <td>0.18</td>\n      <td>0.00</td>\n      <td>...</td>\n      <td>0.24</td>\n      <td>0.20</td>\n      <td>0.02</td>\n      <td>0.00</td>\n      <td>0.04</td>\n      <td>0.50</td>\n      <td>-0.30</td>\n      <td>0.46</td>\n      <td>1.60</td>\n      <td>6</td>\n    </tr>\n    <tr>\n      <th>1</th>\n      <td>Albania</td>\n      <td>Northern/Eastern Europe</td>\n      <td>3.16</td>\n      <td>0.73</td>\n      <td>$4,534.37</td>\n      <td>0.78</td>\n      <td>0.22</td>\n      <td>0.25</td>\n      <td>0.87</td>\n      <td>0.02</td>\n      <td>...</td>\n      <td>0.55</td>\n      <td>0.21</td>\n      <td>0.29</td>\n      <td>0.07</td>\n      <td>0.06</td>\n      <td>1.18</td>\n      <td>-1.03</td>\n      <td>1.27</td>\n      <td>1.87</td>\n      <td>6</td>\n    </tr>\n    <tr>\n      <th>2</th>\n      <td>Algeria</td>\n      <td>Africa</td>\n      <td>38.48</td>\n      <td>0.73</td>\n      <td>$5,430.57</td>\n      <td>0.60</td>\n      <td>0.16</td>\n      <td>0.17</td>\n      <td>1.14</td>\n      <td>0.01</td>\n      <td>...</td>\n      <td>0.24</td>\n      <td>0.27</td>\n      <td>0.03</td>\n      <td>0.01</td>\n      <td>0.03</td>\n      <td>0.59</td>\n      <td>-1.53</td>\n      <td>1.22</td>\n      <td>3.61</td>\n      <td>5</td>\n    </tr>\n    <tr>\n      <th>3</th>\n      <td>Angola</td>\n      <td>Africa</td>\n      <td>20.82</td>\n      <td>0.52</td>\n      <td>$4,665.91</td>\n      <td>0.33</td>\n      <td>0.15</td>\n      <td>0.12</td>\n      <td>0.20</td>\n      <td>0.09</td>\n      <td>...</td>\n      <td>0.20</td>\n      <td>1.42</td>\n      <td>0.64</td>\n      <td>0.26</td>\n      <td>0.04</td>\n      <td>2.55</td>\n      <td>1.61</td>\n      <td>0.54</td>\n      <td>0.37</td>\n      <td>6</td>\n    </tr>\n    <tr>\n      <th>4</th>\n      <td>Antigua and Barbuda</td>\n      <td>Latin America</td>\n      <td>0.09</td>\n      <td>0.78</td>\n      <td>$13,205.10</td>\n      <td>NaN</td>\n      <td>NaN</td>\n      <td>NaN</td>\n      <td>NaN</td>\n      <td>NaN</td>\n      <td>...</td>\n      <td>NaN</td>\n      <td>NaN</td>\n      <td>NaN</td>\n      <td>NaN</td>\n      <td>NaN</td>\n      <td>0.94</td>\n      <td>-4.44</td>\n      <td>3.11</td>\n      <td>5.70</td>\n      <td>2</td>\n    </tr>\n    <tr>\n      <th>...</th>\n      <td>...</td>\n      <td>...</td>\n      <td>...</td>\n      <td>...</td>\n      <td>...</td>\n      <td>...</td>\n      <td>...</td>\n      <td>...</td>\n      <td>...</td>\n      <td>...</td>\n      <td>...</td>\n      <td>...</td>\n      <td>...</td>\n      <td>...</td>\n      <td>...</td>\n      <td>...</td>\n      <td>...</td>\n      <td>...</td>\n      <td>...</td>\n      <td>...</td>\n      <td>...</td>\n    </tr>\n    <tr>\n      <th>183</th>\n      <td>Vietnam</td>\n      <td>Asia-Pacific</td>\n      <td>90.80</td>\n      <td>0.66</td>\n      <td>$1,532.31</td>\n      <td>0.50</td>\n      <td>0.01</td>\n      <td>0.19</td>\n      <td>0.79</td>\n      <td>0.05</td>\n      <td>...</td>\n      <td>0.55</td>\n      <td>0.01</td>\n      <td>0.17</td>\n      <td>0.16</td>\n      <td>0.10</td>\n      <td>1.00</td>\n      <td>-0.65</td>\n      <td>0.95</td>\n      <td>1.66</td>\n      <td>6</td>\n    </tr>\n    <tr>\n      <th>184</th>\n      <td>Wallis and Futuna Islands</td>\n      <td>Asia-Pacific</td>\n      <td>0.01</td>\n      <td>NaN</td>\n      <td>NaN</td>\n      <td>NaN</td>\n      <td>NaN</td>\n      <td>NaN</td>\n      <td>NaN</td>\n      <td>NaN</td>\n      <td>...</td>\n      <td>NaN</td>\n      <td>NaN</td>\n      <td>NaN</td>\n      <td>NaN</td>\n      <td>NaN</td>\n      <td>1.51</td>\n      <td>-0.56</td>\n      <td>1.19</td>\n      <td>1.37</td>\n      <td>3T</td>\n    </tr>\n    <tr>\n      <th>185</th>\n      <td>Yemen</td>\n      <td>Middle East/Central Asia</td>\n      <td>23.85</td>\n      <td>0.50</td>\n      <td>$1,302.30</td>\n      <td>0.34</td>\n      <td>0.14</td>\n      <td>0.04</td>\n      <td>0.42</td>\n      <td>0.04</td>\n      <td>...</td>\n      <td>0.09</td>\n      <td>0.12</td>\n      <td>0.04</td>\n      <td>0.20</td>\n      <td>0.04</td>\n      <td>0.50</td>\n      <td>-0.53</td>\n      <td>0.59</td>\n      <td>2.06</td>\n      <td>5</td>\n    </tr>\n    <tr>\n      <th>186</th>\n      <td>Zambia</td>\n      <td>Africa</td>\n      <td>14.08</td>\n      <td>0.58</td>\n      <td>$1,740.64</td>\n      <td>0.19</td>\n      <td>0.18</td>\n      <td>0.33</td>\n      <td>0.24</td>\n      <td>0.01</td>\n      <td>...</td>\n      <td>0.24</td>\n      <td>0.94</td>\n      <td>0.99</td>\n      <td>0.02</td>\n      <td>0.04</td>\n      <td>2.23</td>\n      <td>1.24</td>\n      <td>0.57</td>\n      <td>0.44</td>\n      <td>6</td>\n    </tr>\n    <tr>\n      <th>187</th>\n      <td>Zimbabwe</td>\n      <td>Africa</td>\n      <td>13.72</td>\n      <td>0.49</td>\n      <td>$865.91</td>\n      <td>0.20</td>\n      <td>0.32</td>\n      <td>0.29</td>\n      <td>0.53</td>\n      <td>0.01</td>\n      <td>...</td>\n      <td>0.15</td>\n      <td>0.32</td>\n      <td>0.12</td>\n      <td>0.01</td>\n      <td>0.02</td>\n      <td>0.62</td>\n      <td>-0.75</td>\n      <td>0.79</td>\n      <td>2.20</td>\n      <td>6</td>\n    </tr>\n  </tbody>\n</table>\n<p>188 rows × 21 columns</p>\n</div>"
     },
     "metadata": {},
     "execution_count": 2
    }
   ],
   "source": [
    "ecological = pd.read_csv(\"./Data/countries.csv\")\n",
    "ecological"
   ]
  },
  {
   "source": [
    "# Import __[World Happiness Report 2016](https://www.kaggle.com/unsdsn/world-happiness)__ dataset"
   ],
   "cell_type": "markdown",
   "metadata": {}
  },
  {
   "cell_type": "code",
   "execution_count": 3,
   "metadata": {},
   "outputs": [
    {
     "output_type": "execute_result",
     "data": {
      "text/plain": [
       "         Country                           Region  Happiness Rank  \\\n",
       "0        Denmark                   Western Europe               1   \n",
       "1    Switzerland                   Western Europe               2   \n",
       "2        Iceland                   Western Europe               3   \n",
       "3         Norway                   Western Europe               4   \n",
       "4        Finland                   Western Europe               5   \n",
       "..           ...                              ...             ...   \n",
       "152        Benin               Sub-Saharan Africa             153   \n",
       "153  Afghanistan                    Southern Asia             154   \n",
       "154         Togo               Sub-Saharan Africa             155   \n",
       "155        Syria  Middle East and Northern Africa             156   \n",
       "156      Burundi               Sub-Saharan Africa             157   \n",
       "\n",
       "     Happiness Score  Lower Confidence Interval  Upper Confidence Interval  \\\n",
       "0              7.526                      7.460                      7.592   \n",
       "1              7.509                      7.428                      7.590   \n",
       "2              7.501                      7.333                      7.669   \n",
       "3              7.498                      7.421                      7.575   \n",
       "4              7.413                      7.351                      7.475   \n",
       "..               ...                        ...                        ...   \n",
       "152            3.484                      3.404                      3.564   \n",
       "153            3.360                      3.288                      3.432   \n",
       "154            3.303                      3.192                      3.414   \n",
       "155            3.069                      2.936                      3.202   \n",
       "156            2.905                      2.732                      3.078   \n",
       "\n",
       "     Economy (GDP per Capita)   Family  Health (Life Expectancy)  Freedom  \\\n",
       "0                     1.44178  1.16374                   0.79504  0.57941   \n",
       "1                     1.52733  1.14524                   0.86303  0.58557   \n",
       "2                     1.42666  1.18326                   0.86733  0.56624   \n",
       "3                     1.57744  1.12690                   0.79579  0.59609   \n",
       "4                     1.40598  1.13464                   0.81091  0.57104   \n",
       "..                        ...      ...                       ...      ...   \n",
       "152                   0.39499  0.10419                   0.21028  0.39747   \n",
       "153                   0.38227  0.11037                   0.17344  0.16430   \n",
       "154                   0.28123  0.00000                   0.24811  0.34678   \n",
       "155                   0.74719  0.14866                   0.62994  0.06912   \n",
       "156                   0.06831  0.23442                   0.15747  0.04320   \n",
       "\n",
       "     Trust (Government Corruption)  Generosity  Dystopia Residual  \n",
       "0                          0.44453     0.36171            2.73939  \n",
       "1                          0.41203     0.28083            2.69463  \n",
       "2                          0.14975     0.47678            2.83137  \n",
       "3                          0.35776     0.37895            2.66465  \n",
       "4                          0.41004     0.25492            2.82596  \n",
       "..                             ...         ...                ...  \n",
       "152                        0.06681     0.20180            2.10812  \n",
       "153                        0.07112     0.31268            2.14558  \n",
       "154                        0.11587     0.17517            2.13540  \n",
       "155                        0.17233     0.48397            0.81789  \n",
       "156                        0.09419     0.20290            2.10404  \n",
       "\n",
       "[157 rows x 13 columns]"
      ],
      "text/html": "<div>\n<style scoped>\n    .dataframe tbody tr th:only-of-type {\n        vertical-align: middle;\n    }\n\n    .dataframe tbody tr th {\n        vertical-align: top;\n    }\n\n    .dataframe thead th {\n        text-align: right;\n    }\n</style>\n<table border=\"1\" class=\"dataframe\">\n  <thead>\n    <tr style=\"text-align: right;\">\n      <th></th>\n      <th>Country</th>\n      <th>Region</th>\n      <th>Happiness Rank</th>\n      <th>Happiness Score</th>\n      <th>Lower Confidence Interval</th>\n      <th>Upper Confidence Interval</th>\n      <th>Economy (GDP per Capita)</th>\n      <th>Family</th>\n      <th>Health (Life Expectancy)</th>\n      <th>Freedom</th>\n      <th>Trust (Government Corruption)</th>\n      <th>Generosity</th>\n      <th>Dystopia Residual</th>\n    </tr>\n  </thead>\n  <tbody>\n    <tr>\n      <th>0</th>\n      <td>Denmark</td>\n      <td>Western Europe</td>\n      <td>1</td>\n      <td>7.526</td>\n      <td>7.460</td>\n      <td>7.592</td>\n      <td>1.44178</td>\n      <td>1.16374</td>\n      <td>0.79504</td>\n      <td>0.57941</td>\n      <td>0.44453</td>\n      <td>0.36171</td>\n      <td>2.73939</td>\n    </tr>\n    <tr>\n      <th>1</th>\n      <td>Switzerland</td>\n      <td>Western Europe</td>\n      <td>2</td>\n      <td>7.509</td>\n      <td>7.428</td>\n      <td>7.590</td>\n      <td>1.52733</td>\n      <td>1.14524</td>\n      <td>0.86303</td>\n      <td>0.58557</td>\n      <td>0.41203</td>\n      <td>0.28083</td>\n      <td>2.69463</td>\n    </tr>\n    <tr>\n      <th>2</th>\n      <td>Iceland</td>\n      <td>Western Europe</td>\n      <td>3</td>\n      <td>7.501</td>\n      <td>7.333</td>\n      <td>7.669</td>\n      <td>1.42666</td>\n      <td>1.18326</td>\n      <td>0.86733</td>\n      <td>0.56624</td>\n      <td>0.14975</td>\n      <td>0.47678</td>\n      <td>2.83137</td>\n    </tr>\n    <tr>\n      <th>3</th>\n      <td>Norway</td>\n      <td>Western Europe</td>\n      <td>4</td>\n      <td>7.498</td>\n      <td>7.421</td>\n      <td>7.575</td>\n      <td>1.57744</td>\n      <td>1.12690</td>\n      <td>0.79579</td>\n      <td>0.59609</td>\n      <td>0.35776</td>\n      <td>0.37895</td>\n      <td>2.66465</td>\n    </tr>\n    <tr>\n      <th>4</th>\n      <td>Finland</td>\n      <td>Western Europe</td>\n      <td>5</td>\n      <td>7.413</td>\n      <td>7.351</td>\n      <td>7.475</td>\n      <td>1.40598</td>\n      <td>1.13464</td>\n      <td>0.81091</td>\n      <td>0.57104</td>\n      <td>0.41004</td>\n      <td>0.25492</td>\n      <td>2.82596</td>\n    </tr>\n    <tr>\n      <th>...</th>\n      <td>...</td>\n      <td>...</td>\n      <td>...</td>\n      <td>...</td>\n      <td>...</td>\n      <td>...</td>\n      <td>...</td>\n      <td>...</td>\n      <td>...</td>\n      <td>...</td>\n      <td>...</td>\n      <td>...</td>\n      <td>...</td>\n    </tr>\n    <tr>\n      <th>152</th>\n      <td>Benin</td>\n      <td>Sub-Saharan Africa</td>\n      <td>153</td>\n      <td>3.484</td>\n      <td>3.404</td>\n      <td>3.564</td>\n      <td>0.39499</td>\n      <td>0.10419</td>\n      <td>0.21028</td>\n      <td>0.39747</td>\n      <td>0.06681</td>\n      <td>0.20180</td>\n      <td>2.10812</td>\n    </tr>\n    <tr>\n      <th>153</th>\n      <td>Afghanistan</td>\n      <td>Southern Asia</td>\n      <td>154</td>\n      <td>3.360</td>\n      <td>3.288</td>\n      <td>3.432</td>\n      <td>0.38227</td>\n      <td>0.11037</td>\n      <td>0.17344</td>\n      <td>0.16430</td>\n      <td>0.07112</td>\n      <td>0.31268</td>\n      <td>2.14558</td>\n    </tr>\n    <tr>\n      <th>154</th>\n      <td>Togo</td>\n      <td>Sub-Saharan Africa</td>\n      <td>155</td>\n      <td>3.303</td>\n      <td>3.192</td>\n      <td>3.414</td>\n      <td>0.28123</td>\n      <td>0.00000</td>\n      <td>0.24811</td>\n      <td>0.34678</td>\n      <td>0.11587</td>\n      <td>0.17517</td>\n      <td>2.13540</td>\n    </tr>\n    <tr>\n      <th>155</th>\n      <td>Syria</td>\n      <td>Middle East and Northern Africa</td>\n      <td>156</td>\n      <td>3.069</td>\n      <td>2.936</td>\n      <td>3.202</td>\n      <td>0.74719</td>\n      <td>0.14866</td>\n      <td>0.62994</td>\n      <td>0.06912</td>\n      <td>0.17233</td>\n      <td>0.48397</td>\n      <td>0.81789</td>\n    </tr>\n    <tr>\n      <th>156</th>\n      <td>Burundi</td>\n      <td>Sub-Saharan Africa</td>\n      <td>157</td>\n      <td>2.905</td>\n      <td>2.732</td>\n      <td>3.078</td>\n      <td>0.06831</td>\n      <td>0.23442</td>\n      <td>0.15747</td>\n      <td>0.04320</td>\n      <td>0.09419</td>\n      <td>0.20290</td>\n      <td>2.10404</td>\n    </tr>\n  </tbody>\n</table>\n<p>157 rows × 13 columns</p>\n</div>"
     },
     "metadata": {},
     "execution_count": 3
    }
   ],
   "source": [
    "happiness = pd.read_csv(\"./Data/2016.csv\")\n",
    "happiness"
   ]
  },
  {
   "source": [
    "# Remove countries that aren't on both datasets\n",
    "\n",
    "Note that I had to name Vietnam to be the same in the csv files"
   ],
   "cell_type": "markdown",
   "metadata": {}
  },
  {
   "cell_type": "code",
   "execution_count": 4,
   "metadata": {},
   "outputs": [
    {
     "output_type": "execute_result",
     "data": {
      "text/plain": [
       "         Country                  Region_x  Population (millions)   HDI  \\\n",
       "0    Afghanistan  Middle East/Central Asia                  29.82  0.46   \n",
       "1        Albania   Northern/Eastern Europe                   3.16  0.73   \n",
       "2        Algeria                    Africa                  38.48  0.73   \n",
       "3         Angola                    Africa                  20.82  0.52   \n",
       "4      Argentina             Latin America                  41.09  0.83   \n",
       "..           ...                       ...                    ...   ...   \n",
       "127   Uzbekistan  Middle East/Central Asia                  28.54  0.67   \n",
       "128      Vietnam              Asia-Pacific                  90.80  0.66   \n",
       "129        Yemen  Middle East/Central Asia                  23.85  0.50   \n",
       "130       Zambia                    Africa                  14.08  0.58   \n",
       "131     Zimbabwe                    Africa                  13.72  0.49   \n",
       "\n",
       "    GDP per Capita  Cropland Footprint  Grazing Footprint  Forest Footprint  \\\n",
       "0          $614.66                0.30               0.20              0.08   \n",
       "1        $4,534.37                0.78               0.22              0.25   \n",
       "2        $5,430.57                0.60               0.16              0.17   \n",
       "3        $4,665.91                0.33               0.15              0.12   \n",
       "4       $13,540.00                0.78               0.79              0.29   \n",
       "..             ...                 ...                ...               ...   \n",
       "127      $1,560.85                0.62               0.13              0.08   \n",
       "128      $1,532.31                0.50               0.01              0.19   \n",
       "129      $1,302.30                0.34               0.14              0.04   \n",
       "130      $1,740.64                0.19               0.18              0.33   \n",
       "131        $865.91                0.20               0.32              0.29   \n",
       "\n",
       "     Carbon Footprint  Fish Footprint  ...  Happiness Score  \\\n",
       "0                0.18            0.00  ...            3.360   \n",
       "1                0.87            0.02  ...            4.655   \n",
       "2                1.14            0.01  ...            6.355   \n",
       "3                0.20            0.09  ...            3.866   \n",
       "4                1.08            0.10  ...            6.650   \n",
       "..                ...             ...  ...              ...   \n",
       "127              1.41            0.00  ...            5.987   \n",
       "128              0.79            0.05  ...            5.061   \n",
       "129              0.42            0.04  ...            3.724   \n",
       "130              0.24            0.01  ...            4.795   \n",
       "131              0.53            0.01  ...            4.193   \n",
       "\n",
       "     Lower Confidence Interval  Upper Confidence Interval  \\\n",
       "0                        3.288                      3.432   \n",
       "1                        4.546                      4.764   \n",
       "2                        6.227                      6.483   \n",
       "3                        3.753                      3.979   \n",
       "4                        6.560                      6.740   \n",
       "..                         ...                        ...   \n",
       "127                      5.896                      6.078   \n",
       "128                      4.991                      5.131   \n",
       "129                      3.621                      3.827   \n",
       "130                      4.645                      4.945   \n",
       "131                      4.101                      4.285   \n",
       "\n",
       "     Economy (GDP per Capita)   Family  Health (Life Expectancy)  Freedom  \\\n",
       "0                     0.38227  0.11037                   0.17344  0.16430   \n",
       "1                     0.95530  0.50163                   0.73007  0.31866   \n",
       "2                     1.05266  0.83309                   0.61804  0.21006   \n",
       "3                     0.84731  0.66366                   0.04991  0.00589   \n",
       "4                     1.15137  1.06612                   0.69711  0.42284   \n",
       "..                        ...      ...                       ...      ...   \n",
       "127                   0.73591  1.16810                   0.50163  0.60848   \n",
       "128                   0.74037  0.79117                   0.66157  0.55954   \n",
       "129                   0.57939  0.47493                   0.31048  0.22870   \n",
       "130                   0.61202  0.63760                   0.23573  0.42662   \n",
       "131                   0.35041  0.71478                   0.15950  0.25429   \n",
       "\n",
       "     Trust (Government Corruption)  Generosity  Dystopia Residual  \n",
       "0                          0.07112     0.31268            2.14558  \n",
       "1                          0.05301     0.16840            1.92816  \n",
       "2                          0.16157     0.07044            3.40904  \n",
       "3                          0.08434     0.12071            2.09459  \n",
       "4                          0.07296     0.10989            3.12985  \n",
       "..                             ...         ...                ...  \n",
       "127                        0.28333     0.34326            2.34638  \n",
       "128                        0.11556     0.25075            1.94180  \n",
       "129                        0.05892     0.09821            1.97295  \n",
       "130                        0.11479     0.17866            2.58991  \n",
       "131                        0.08582     0.18503            2.44270  \n",
       "\n",
       "[132 rows x 33 columns]"
      ],
      "text/html": "<div>\n<style scoped>\n    .dataframe tbody tr th:only-of-type {\n        vertical-align: middle;\n    }\n\n    .dataframe tbody tr th {\n        vertical-align: top;\n    }\n\n    .dataframe thead th {\n        text-align: right;\n    }\n</style>\n<table border=\"1\" class=\"dataframe\">\n  <thead>\n    <tr style=\"text-align: right;\">\n      <th></th>\n      <th>Country</th>\n      <th>Region_x</th>\n      <th>Population (millions)</th>\n      <th>HDI</th>\n      <th>GDP per Capita</th>\n      <th>Cropland Footprint</th>\n      <th>Grazing Footprint</th>\n      <th>Forest Footprint</th>\n      <th>Carbon Footprint</th>\n      <th>Fish Footprint</th>\n      <th>...</th>\n      <th>Happiness Score</th>\n      <th>Lower Confidence Interval</th>\n      <th>Upper Confidence Interval</th>\n      <th>Economy (GDP per Capita)</th>\n      <th>Family</th>\n      <th>Health (Life Expectancy)</th>\n      <th>Freedom</th>\n      <th>Trust (Government Corruption)</th>\n      <th>Generosity</th>\n      <th>Dystopia Residual</th>\n    </tr>\n  </thead>\n  <tbody>\n    <tr>\n      <th>0</th>\n      <td>Afghanistan</td>\n      <td>Middle East/Central Asia</td>\n      <td>29.82</td>\n      <td>0.46</td>\n      <td>$614.66</td>\n      <td>0.30</td>\n      <td>0.20</td>\n      <td>0.08</td>\n      <td>0.18</td>\n      <td>0.00</td>\n      <td>...</td>\n      <td>3.360</td>\n      <td>3.288</td>\n      <td>3.432</td>\n      <td>0.38227</td>\n      <td>0.11037</td>\n      <td>0.17344</td>\n      <td>0.16430</td>\n      <td>0.07112</td>\n      <td>0.31268</td>\n      <td>2.14558</td>\n    </tr>\n    <tr>\n      <th>1</th>\n      <td>Albania</td>\n      <td>Northern/Eastern Europe</td>\n      <td>3.16</td>\n      <td>0.73</td>\n      <td>$4,534.37</td>\n      <td>0.78</td>\n      <td>0.22</td>\n      <td>0.25</td>\n      <td>0.87</td>\n      <td>0.02</td>\n      <td>...</td>\n      <td>4.655</td>\n      <td>4.546</td>\n      <td>4.764</td>\n      <td>0.95530</td>\n      <td>0.50163</td>\n      <td>0.73007</td>\n      <td>0.31866</td>\n      <td>0.05301</td>\n      <td>0.16840</td>\n      <td>1.92816</td>\n    </tr>\n    <tr>\n      <th>2</th>\n      <td>Algeria</td>\n      <td>Africa</td>\n      <td>38.48</td>\n      <td>0.73</td>\n      <td>$5,430.57</td>\n      <td>0.60</td>\n      <td>0.16</td>\n      <td>0.17</td>\n      <td>1.14</td>\n      <td>0.01</td>\n      <td>...</td>\n      <td>6.355</td>\n      <td>6.227</td>\n      <td>6.483</td>\n      <td>1.05266</td>\n      <td>0.83309</td>\n      <td>0.61804</td>\n      <td>0.21006</td>\n      <td>0.16157</td>\n      <td>0.07044</td>\n      <td>3.40904</td>\n    </tr>\n    <tr>\n      <th>3</th>\n      <td>Angola</td>\n      <td>Africa</td>\n      <td>20.82</td>\n      <td>0.52</td>\n      <td>$4,665.91</td>\n      <td>0.33</td>\n      <td>0.15</td>\n      <td>0.12</td>\n      <td>0.20</td>\n      <td>0.09</td>\n      <td>...</td>\n      <td>3.866</td>\n      <td>3.753</td>\n      <td>3.979</td>\n      <td>0.84731</td>\n      <td>0.66366</td>\n      <td>0.04991</td>\n      <td>0.00589</td>\n      <td>0.08434</td>\n      <td>0.12071</td>\n      <td>2.09459</td>\n    </tr>\n    <tr>\n      <th>4</th>\n      <td>Argentina</td>\n      <td>Latin America</td>\n      <td>41.09</td>\n      <td>0.83</td>\n      <td>$13,540.00</td>\n      <td>0.78</td>\n      <td>0.79</td>\n      <td>0.29</td>\n      <td>1.08</td>\n      <td>0.10</td>\n      <td>...</td>\n      <td>6.650</td>\n      <td>6.560</td>\n      <td>6.740</td>\n      <td>1.15137</td>\n      <td>1.06612</td>\n      <td>0.69711</td>\n      <td>0.42284</td>\n      <td>0.07296</td>\n      <td>0.10989</td>\n      <td>3.12985</td>\n    </tr>\n    <tr>\n      <th>...</th>\n      <td>...</td>\n      <td>...</td>\n      <td>...</td>\n      <td>...</td>\n      <td>...</td>\n      <td>...</td>\n      <td>...</td>\n      <td>...</td>\n      <td>...</td>\n      <td>...</td>\n      <td>...</td>\n      <td>...</td>\n      <td>...</td>\n      <td>...</td>\n      <td>...</td>\n      <td>...</td>\n      <td>...</td>\n      <td>...</td>\n      <td>...</td>\n      <td>...</td>\n      <td>...</td>\n    </tr>\n    <tr>\n      <th>127</th>\n      <td>Uzbekistan</td>\n      <td>Middle East/Central Asia</td>\n      <td>28.54</td>\n      <td>0.67</td>\n      <td>$1,560.85</td>\n      <td>0.62</td>\n      <td>0.13</td>\n      <td>0.08</td>\n      <td>1.41</td>\n      <td>0.00</td>\n      <td>...</td>\n      <td>5.987</td>\n      <td>5.896</td>\n      <td>6.078</td>\n      <td>0.73591</td>\n      <td>1.16810</td>\n      <td>0.50163</td>\n      <td>0.60848</td>\n      <td>0.28333</td>\n      <td>0.34326</td>\n      <td>2.34638</td>\n    </tr>\n    <tr>\n      <th>128</th>\n      <td>Vietnam</td>\n      <td>Asia-Pacific</td>\n      <td>90.80</td>\n      <td>0.66</td>\n      <td>$1,532.31</td>\n      <td>0.50</td>\n      <td>0.01</td>\n      <td>0.19</td>\n      <td>0.79</td>\n      <td>0.05</td>\n      <td>...</td>\n      <td>5.061</td>\n      <td>4.991</td>\n      <td>5.131</td>\n      <td>0.74037</td>\n      <td>0.79117</td>\n      <td>0.66157</td>\n      <td>0.55954</td>\n      <td>0.11556</td>\n      <td>0.25075</td>\n      <td>1.94180</td>\n    </tr>\n    <tr>\n      <th>129</th>\n      <td>Yemen</td>\n      <td>Middle East/Central Asia</td>\n      <td>23.85</td>\n      <td>0.50</td>\n      <td>$1,302.30</td>\n      <td>0.34</td>\n      <td>0.14</td>\n      <td>0.04</td>\n      <td>0.42</td>\n      <td>0.04</td>\n      <td>...</td>\n      <td>3.724</td>\n      <td>3.621</td>\n      <td>3.827</td>\n      <td>0.57939</td>\n      <td>0.47493</td>\n      <td>0.31048</td>\n      <td>0.22870</td>\n      <td>0.05892</td>\n      <td>0.09821</td>\n      <td>1.97295</td>\n    </tr>\n    <tr>\n      <th>130</th>\n      <td>Zambia</td>\n      <td>Africa</td>\n      <td>14.08</td>\n      <td>0.58</td>\n      <td>$1,740.64</td>\n      <td>0.19</td>\n      <td>0.18</td>\n      <td>0.33</td>\n      <td>0.24</td>\n      <td>0.01</td>\n      <td>...</td>\n      <td>4.795</td>\n      <td>4.645</td>\n      <td>4.945</td>\n      <td>0.61202</td>\n      <td>0.63760</td>\n      <td>0.23573</td>\n      <td>0.42662</td>\n      <td>0.11479</td>\n      <td>0.17866</td>\n      <td>2.58991</td>\n    </tr>\n    <tr>\n      <th>131</th>\n      <td>Zimbabwe</td>\n      <td>Africa</td>\n      <td>13.72</td>\n      <td>0.49</td>\n      <td>$865.91</td>\n      <td>0.20</td>\n      <td>0.32</td>\n      <td>0.29</td>\n      <td>0.53</td>\n      <td>0.01</td>\n      <td>...</td>\n      <td>4.193</td>\n      <td>4.101</td>\n      <td>4.285</td>\n      <td>0.35041</td>\n      <td>0.71478</td>\n      <td>0.15950</td>\n      <td>0.25429</td>\n      <td>0.08582</td>\n      <td>0.18503</td>\n      <td>2.44270</td>\n    </tr>\n  </tbody>\n</table>\n<p>132 rows × 33 columns</p>\n</div>"
     },
     "metadata": {},
     "execution_count": 4
    }
   ],
   "source": [
    "data = reduce(lambda left, right: pd.merge(left, right, on='Country'), [ecological, happiness])\n",
    "data"
   ]
  },
  {
   "source": [
    "# Remove countries with NaNs as any element"
   ],
   "cell_type": "markdown",
   "metadata": {}
  },
  {
   "cell_type": "code",
   "execution_count": 6,
   "metadata": {},
   "outputs": [
    {
     "output_type": "stream",
     "name": "stdout",
     "text": [
      "True\n"
     ]
    },
    {
     "output_type": "execute_result",
     "data": {
      "text/plain": [
       "      Country                 Region_x  Population (millions)   HDI  \\\n",
       "22   Cambodia             Asia-Pacific                  14.86  0.55   \n",
       "39    Estonia           European Union                   1.29  0.85   \n",
       "41    Finland           European Union                   5.41  0.88   \n",
       "90     Norway  Northern/Eastern Europe                   4.99  0.94   \n",
       "108   Somalia                   Africa                  10.20   NaN   \n",
       "\n",
       "    GDP per Capita  Cropland Footprint  Grazing Footprint  Forest Footprint  \\\n",
       "22         $877.64                 NaN                NaN               NaN   \n",
       "39      $17,304.40                 NaN                NaN               NaN   \n",
       "41      $50,960.20                 NaN                NaN               NaN   \n",
       "90     $100,172.00                 NaN                NaN               NaN   \n",
       "108            NaN                0.16               0.43              0.52   \n",
       "\n",
       "     Carbon Footprint  Fish Footprint  ...  Happiness Score  \\\n",
       "22                NaN             NaN  ...            3.907   \n",
       "39                NaN             NaN  ...            5.517   \n",
       "41                NaN             NaN  ...            7.413   \n",
       "90                NaN             NaN  ...            7.498   \n",
       "108              0.07            0.01  ...            5.440   \n",
       "\n",
       "     Lower Confidence Interval  Upper Confidence Interval  \\\n",
       "22                       3.798                      4.016   \n",
       "39                       5.437                      5.597   \n",
       "41                       7.351                      7.475   \n",
       "90                       7.421                      7.575   \n",
       "108                      5.321                      5.559   \n",
       "\n",
       "     Economy (GDP per Capita)   Family  Health (Life Expectancy)  Freedom  \\\n",
       "22                    0.55604  0.53750                   0.42494  0.58852   \n",
       "39                    1.27964  1.05163                   0.68098  0.41511   \n",
       "41                    1.40598  1.13464                   0.81091  0.57104   \n",
       "90                    1.57744  1.12690                   0.79579  0.59609   \n",
       "108                   0.00000  0.33613                   0.11466  0.56778   \n",
       "\n",
       "     Trust (Government Corruption)  Generosity  Dystopia Residual  \n",
       "22                         0.08092     0.40339            1.31573  \n",
       "39                         0.18519     0.08423            1.81985  \n",
       "41                         0.41004     0.25492            2.82596  \n",
       "90                         0.35776     0.37895            2.66465  \n",
       "108                        0.31180     0.27225            3.83772  \n",
       "\n",
       "[5 rows x 33 columns]"
      ],
      "text/html": "<div>\n<style scoped>\n    .dataframe tbody tr th:only-of-type {\n        vertical-align: middle;\n    }\n\n    .dataframe tbody tr th {\n        vertical-align: top;\n    }\n\n    .dataframe thead th {\n        text-align: right;\n    }\n</style>\n<table border=\"1\" class=\"dataframe\">\n  <thead>\n    <tr style=\"text-align: right;\">\n      <th></th>\n      <th>Country</th>\n      <th>Region_x</th>\n      <th>Population (millions)</th>\n      <th>HDI</th>\n      <th>GDP per Capita</th>\n      <th>Cropland Footprint</th>\n      <th>Grazing Footprint</th>\n      <th>Forest Footprint</th>\n      <th>Carbon Footprint</th>\n      <th>Fish Footprint</th>\n      <th>...</th>\n      <th>Happiness Score</th>\n      <th>Lower Confidence Interval</th>\n      <th>Upper Confidence Interval</th>\n      <th>Economy (GDP per Capita)</th>\n      <th>Family</th>\n      <th>Health (Life Expectancy)</th>\n      <th>Freedom</th>\n      <th>Trust (Government Corruption)</th>\n      <th>Generosity</th>\n      <th>Dystopia Residual</th>\n    </tr>\n  </thead>\n  <tbody>\n    <tr>\n      <th>22</th>\n      <td>Cambodia</td>\n      <td>Asia-Pacific</td>\n      <td>14.86</td>\n      <td>0.55</td>\n      <td>$877.64</td>\n      <td>NaN</td>\n      <td>NaN</td>\n      <td>NaN</td>\n      <td>NaN</td>\n      <td>NaN</td>\n      <td>...</td>\n      <td>3.907</td>\n      <td>3.798</td>\n      <td>4.016</td>\n      <td>0.55604</td>\n      <td>0.53750</td>\n      <td>0.42494</td>\n      <td>0.58852</td>\n      <td>0.08092</td>\n      <td>0.40339</td>\n      <td>1.31573</td>\n    </tr>\n    <tr>\n      <th>39</th>\n      <td>Estonia</td>\n      <td>European Union</td>\n      <td>1.29</td>\n      <td>0.85</td>\n      <td>$17,304.40</td>\n      <td>NaN</td>\n      <td>NaN</td>\n      <td>NaN</td>\n      <td>NaN</td>\n      <td>NaN</td>\n      <td>...</td>\n      <td>5.517</td>\n      <td>5.437</td>\n      <td>5.597</td>\n      <td>1.27964</td>\n      <td>1.05163</td>\n      <td>0.68098</td>\n      <td>0.41511</td>\n      <td>0.18519</td>\n      <td>0.08423</td>\n      <td>1.81985</td>\n    </tr>\n    <tr>\n      <th>41</th>\n      <td>Finland</td>\n      <td>European Union</td>\n      <td>5.41</td>\n      <td>0.88</td>\n      <td>$50,960.20</td>\n      <td>NaN</td>\n      <td>NaN</td>\n      <td>NaN</td>\n      <td>NaN</td>\n      <td>NaN</td>\n      <td>...</td>\n      <td>7.413</td>\n      <td>7.351</td>\n      <td>7.475</td>\n      <td>1.40598</td>\n      <td>1.13464</td>\n      <td>0.81091</td>\n      <td>0.57104</td>\n      <td>0.41004</td>\n      <td>0.25492</td>\n      <td>2.82596</td>\n    </tr>\n    <tr>\n      <th>90</th>\n      <td>Norway</td>\n      <td>Northern/Eastern Europe</td>\n      <td>4.99</td>\n      <td>0.94</td>\n      <td>$100,172.00</td>\n      <td>NaN</td>\n      <td>NaN</td>\n      <td>NaN</td>\n      <td>NaN</td>\n      <td>NaN</td>\n      <td>...</td>\n      <td>7.498</td>\n      <td>7.421</td>\n      <td>7.575</td>\n      <td>1.57744</td>\n      <td>1.12690</td>\n      <td>0.79579</td>\n      <td>0.59609</td>\n      <td>0.35776</td>\n      <td>0.37895</td>\n      <td>2.66465</td>\n    </tr>\n    <tr>\n      <th>108</th>\n      <td>Somalia</td>\n      <td>Africa</td>\n      <td>10.20</td>\n      <td>NaN</td>\n      <td>NaN</td>\n      <td>0.16</td>\n      <td>0.43</td>\n      <td>0.52</td>\n      <td>0.07</td>\n      <td>0.01</td>\n      <td>...</td>\n      <td>5.440</td>\n      <td>5.321</td>\n      <td>5.559</td>\n      <td>0.00000</td>\n      <td>0.33613</td>\n      <td>0.11466</td>\n      <td>0.56778</td>\n      <td>0.31180</td>\n      <td>0.27225</td>\n      <td>3.83772</td>\n    </tr>\n  </tbody>\n</table>\n<p>5 rows × 33 columns</p>\n</div>"
     },
     "metadata": {},
     "execution_count": 6
    }
   ],
   "source": [
    "print(data.isnull().values.any()) # Check if any contain NaNs\n",
    "data[data.isna().any(axis=1)] # Display which ones contain NaN"
   ]
  },
  {
   "cell_type": "code",
   "execution_count": 7,
   "metadata": {},
   "outputs": [
    {
     "output_type": "execute_result",
     "data": {
      "text/plain": [
       "         Country                  Region_x  Population (millions)   HDI  \\\n",
       "0    Afghanistan  Middle East/Central Asia                  29.82  0.46   \n",
       "1        Albania   Northern/Eastern Europe                   3.16  0.73   \n",
       "2        Algeria                    Africa                  38.48  0.73   \n",
       "3         Angola                    Africa                  20.82  0.52   \n",
       "4      Argentina             Latin America                  41.09  0.83   \n",
       "..           ...                       ...                    ...   ...   \n",
       "127   Uzbekistan  Middle East/Central Asia                  28.54  0.67   \n",
       "128      Vietnam              Asia-Pacific                  90.80  0.66   \n",
       "129        Yemen  Middle East/Central Asia                  23.85  0.50   \n",
       "130       Zambia                    Africa                  14.08  0.58   \n",
       "131     Zimbabwe                    Africa                  13.72  0.49   \n",
       "\n",
       "    GDP per Capita  Cropland Footprint  Grazing Footprint  Forest Footprint  \\\n",
       "0          $614.66                0.30               0.20              0.08   \n",
       "1        $4,534.37                0.78               0.22              0.25   \n",
       "2        $5,430.57                0.60               0.16              0.17   \n",
       "3        $4,665.91                0.33               0.15              0.12   \n",
       "4       $13,540.00                0.78               0.79              0.29   \n",
       "..             ...                 ...                ...               ...   \n",
       "127      $1,560.85                0.62               0.13              0.08   \n",
       "128      $1,532.31                0.50               0.01              0.19   \n",
       "129      $1,302.30                0.34               0.14              0.04   \n",
       "130      $1,740.64                0.19               0.18              0.33   \n",
       "131        $865.91                0.20               0.32              0.29   \n",
       "\n",
       "     Carbon Footprint  Fish Footprint  ...  Happiness Score  \\\n",
       "0                0.18            0.00  ...            3.360   \n",
       "1                0.87            0.02  ...            4.655   \n",
       "2                1.14            0.01  ...            6.355   \n",
       "3                0.20            0.09  ...            3.866   \n",
       "4                1.08            0.10  ...            6.650   \n",
       "..                ...             ...  ...              ...   \n",
       "127              1.41            0.00  ...            5.987   \n",
       "128              0.79            0.05  ...            5.061   \n",
       "129              0.42            0.04  ...            3.724   \n",
       "130              0.24            0.01  ...            4.795   \n",
       "131              0.53            0.01  ...            4.193   \n",
       "\n",
       "     Lower Confidence Interval  Upper Confidence Interval  \\\n",
       "0                        3.288                      3.432   \n",
       "1                        4.546                      4.764   \n",
       "2                        6.227                      6.483   \n",
       "3                        3.753                      3.979   \n",
       "4                        6.560                      6.740   \n",
       "..                         ...                        ...   \n",
       "127                      5.896                      6.078   \n",
       "128                      4.991                      5.131   \n",
       "129                      3.621                      3.827   \n",
       "130                      4.645                      4.945   \n",
       "131                      4.101                      4.285   \n",
       "\n",
       "     Economy (GDP per Capita)   Family  Health (Life Expectancy)  Freedom  \\\n",
       "0                     0.38227  0.11037                   0.17344  0.16430   \n",
       "1                     0.95530  0.50163                   0.73007  0.31866   \n",
       "2                     1.05266  0.83309                   0.61804  0.21006   \n",
       "3                     0.84731  0.66366                   0.04991  0.00589   \n",
       "4                     1.15137  1.06612                   0.69711  0.42284   \n",
       "..                        ...      ...                       ...      ...   \n",
       "127                   0.73591  1.16810                   0.50163  0.60848   \n",
       "128                   0.74037  0.79117                   0.66157  0.55954   \n",
       "129                   0.57939  0.47493                   0.31048  0.22870   \n",
       "130                   0.61202  0.63760                   0.23573  0.42662   \n",
       "131                   0.35041  0.71478                   0.15950  0.25429   \n",
       "\n",
       "     Trust (Government Corruption)  Generosity  Dystopia Residual  \n",
       "0                          0.07112     0.31268            2.14558  \n",
       "1                          0.05301     0.16840            1.92816  \n",
       "2                          0.16157     0.07044            3.40904  \n",
       "3                          0.08434     0.12071            2.09459  \n",
       "4                          0.07296     0.10989            3.12985  \n",
       "..                             ...         ...                ...  \n",
       "127                        0.28333     0.34326            2.34638  \n",
       "128                        0.11556     0.25075            1.94180  \n",
       "129                        0.05892     0.09821            1.97295  \n",
       "130                        0.11479     0.17866            2.58991  \n",
       "131                        0.08582     0.18503            2.44270  \n",
       "\n",
       "[127 rows x 33 columns]"
      ],
      "text/html": "<div>\n<style scoped>\n    .dataframe tbody tr th:only-of-type {\n        vertical-align: middle;\n    }\n\n    .dataframe tbody tr th {\n        vertical-align: top;\n    }\n\n    .dataframe thead th {\n        text-align: right;\n    }\n</style>\n<table border=\"1\" class=\"dataframe\">\n  <thead>\n    <tr style=\"text-align: right;\">\n      <th></th>\n      <th>Country</th>\n      <th>Region_x</th>\n      <th>Population (millions)</th>\n      <th>HDI</th>\n      <th>GDP per Capita</th>\n      <th>Cropland Footprint</th>\n      <th>Grazing Footprint</th>\n      <th>Forest Footprint</th>\n      <th>Carbon Footprint</th>\n      <th>Fish Footprint</th>\n      <th>...</th>\n      <th>Happiness Score</th>\n      <th>Lower Confidence Interval</th>\n      <th>Upper Confidence Interval</th>\n      <th>Economy (GDP per Capita)</th>\n      <th>Family</th>\n      <th>Health (Life Expectancy)</th>\n      <th>Freedom</th>\n      <th>Trust (Government Corruption)</th>\n      <th>Generosity</th>\n      <th>Dystopia Residual</th>\n    </tr>\n  </thead>\n  <tbody>\n    <tr>\n      <th>0</th>\n      <td>Afghanistan</td>\n      <td>Middle East/Central Asia</td>\n      <td>29.82</td>\n      <td>0.46</td>\n      <td>$614.66</td>\n      <td>0.30</td>\n      <td>0.20</td>\n      <td>0.08</td>\n      <td>0.18</td>\n      <td>0.00</td>\n      <td>...</td>\n      <td>3.360</td>\n      <td>3.288</td>\n      <td>3.432</td>\n      <td>0.38227</td>\n      <td>0.11037</td>\n      <td>0.17344</td>\n      <td>0.16430</td>\n      <td>0.07112</td>\n      <td>0.31268</td>\n      <td>2.14558</td>\n    </tr>\n    <tr>\n      <th>1</th>\n      <td>Albania</td>\n      <td>Northern/Eastern Europe</td>\n      <td>3.16</td>\n      <td>0.73</td>\n      <td>$4,534.37</td>\n      <td>0.78</td>\n      <td>0.22</td>\n      <td>0.25</td>\n      <td>0.87</td>\n      <td>0.02</td>\n      <td>...</td>\n      <td>4.655</td>\n      <td>4.546</td>\n      <td>4.764</td>\n      <td>0.95530</td>\n      <td>0.50163</td>\n      <td>0.73007</td>\n      <td>0.31866</td>\n      <td>0.05301</td>\n      <td>0.16840</td>\n      <td>1.92816</td>\n    </tr>\n    <tr>\n      <th>2</th>\n      <td>Algeria</td>\n      <td>Africa</td>\n      <td>38.48</td>\n      <td>0.73</td>\n      <td>$5,430.57</td>\n      <td>0.60</td>\n      <td>0.16</td>\n      <td>0.17</td>\n      <td>1.14</td>\n      <td>0.01</td>\n      <td>...</td>\n      <td>6.355</td>\n      <td>6.227</td>\n      <td>6.483</td>\n      <td>1.05266</td>\n      <td>0.83309</td>\n      <td>0.61804</td>\n      <td>0.21006</td>\n      <td>0.16157</td>\n      <td>0.07044</td>\n      <td>3.40904</td>\n    </tr>\n    <tr>\n      <th>3</th>\n      <td>Angola</td>\n      <td>Africa</td>\n      <td>20.82</td>\n      <td>0.52</td>\n      <td>$4,665.91</td>\n      <td>0.33</td>\n      <td>0.15</td>\n      <td>0.12</td>\n      <td>0.20</td>\n      <td>0.09</td>\n      <td>...</td>\n      <td>3.866</td>\n      <td>3.753</td>\n      <td>3.979</td>\n      <td>0.84731</td>\n      <td>0.66366</td>\n      <td>0.04991</td>\n      <td>0.00589</td>\n      <td>0.08434</td>\n      <td>0.12071</td>\n      <td>2.09459</td>\n    </tr>\n    <tr>\n      <th>4</th>\n      <td>Argentina</td>\n      <td>Latin America</td>\n      <td>41.09</td>\n      <td>0.83</td>\n      <td>$13,540.00</td>\n      <td>0.78</td>\n      <td>0.79</td>\n      <td>0.29</td>\n      <td>1.08</td>\n      <td>0.10</td>\n      <td>...</td>\n      <td>6.650</td>\n      <td>6.560</td>\n      <td>6.740</td>\n      <td>1.15137</td>\n      <td>1.06612</td>\n      <td>0.69711</td>\n      <td>0.42284</td>\n      <td>0.07296</td>\n      <td>0.10989</td>\n      <td>3.12985</td>\n    </tr>\n    <tr>\n      <th>...</th>\n      <td>...</td>\n      <td>...</td>\n      <td>...</td>\n      <td>...</td>\n      <td>...</td>\n      <td>...</td>\n      <td>...</td>\n      <td>...</td>\n      <td>...</td>\n      <td>...</td>\n      <td>...</td>\n      <td>...</td>\n      <td>...</td>\n      <td>...</td>\n      <td>...</td>\n      <td>...</td>\n      <td>...</td>\n      <td>...</td>\n      <td>...</td>\n      <td>...</td>\n      <td>...</td>\n    </tr>\n    <tr>\n      <th>127</th>\n      <td>Uzbekistan</td>\n      <td>Middle East/Central Asia</td>\n      <td>28.54</td>\n      <td>0.67</td>\n      <td>$1,560.85</td>\n      <td>0.62</td>\n      <td>0.13</td>\n      <td>0.08</td>\n      <td>1.41</td>\n      <td>0.00</td>\n      <td>...</td>\n      <td>5.987</td>\n      <td>5.896</td>\n      <td>6.078</td>\n      <td>0.73591</td>\n      <td>1.16810</td>\n      <td>0.50163</td>\n      <td>0.60848</td>\n      <td>0.28333</td>\n      <td>0.34326</td>\n      <td>2.34638</td>\n    </tr>\n    <tr>\n      <th>128</th>\n      <td>Vietnam</td>\n      <td>Asia-Pacific</td>\n      <td>90.80</td>\n      <td>0.66</td>\n      <td>$1,532.31</td>\n      <td>0.50</td>\n      <td>0.01</td>\n      <td>0.19</td>\n      <td>0.79</td>\n      <td>0.05</td>\n      <td>...</td>\n      <td>5.061</td>\n      <td>4.991</td>\n      <td>5.131</td>\n      <td>0.74037</td>\n      <td>0.79117</td>\n      <td>0.66157</td>\n      <td>0.55954</td>\n      <td>0.11556</td>\n      <td>0.25075</td>\n      <td>1.94180</td>\n    </tr>\n    <tr>\n      <th>129</th>\n      <td>Yemen</td>\n      <td>Middle East/Central Asia</td>\n      <td>23.85</td>\n      <td>0.50</td>\n      <td>$1,302.30</td>\n      <td>0.34</td>\n      <td>0.14</td>\n      <td>0.04</td>\n      <td>0.42</td>\n      <td>0.04</td>\n      <td>...</td>\n      <td>3.724</td>\n      <td>3.621</td>\n      <td>3.827</td>\n      <td>0.57939</td>\n      <td>0.47493</td>\n      <td>0.31048</td>\n      <td>0.22870</td>\n      <td>0.05892</td>\n      <td>0.09821</td>\n      <td>1.97295</td>\n    </tr>\n    <tr>\n      <th>130</th>\n      <td>Zambia</td>\n      <td>Africa</td>\n      <td>14.08</td>\n      <td>0.58</td>\n      <td>$1,740.64</td>\n      <td>0.19</td>\n      <td>0.18</td>\n      <td>0.33</td>\n      <td>0.24</td>\n      <td>0.01</td>\n      <td>...</td>\n      <td>4.795</td>\n      <td>4.645</td>\n      <td>4.945</td>\n      <td>0.61202</td>\n      <td>0.63760</td>\n      <td>0.23573</td>\n      <td>0.42662</td>\n      <td>0.11479</td>\n      <td>0.17866</td>\n      <td>2.58991</td>\n    </tr>\n    <tr>\n      <th>131</th>\n      <td>Zimbabwe</td>\n      <td>Africa</td>\n      <td>13.72</td>\n      <td>0.49</td>\n      <td>$865.91</td>\n      <td>0.20</td>\n      <td>0.32</td>\n      <td>0.29</td>\n      <td>0.53</td>\n      <td>0.01</td>\n      <td>...</td>\n      <td>4.193</td>\n      <td>4.101</td>\n      <td>4.285</td>\n      <td>0.35041</td>\n      <td>0.71478</td>\n      <td>0.15950</td>\n      <td>0.25429</td>\n      <td>0.08582</td>\n      <td>0.18503</td>\n      <td>2.44270</td>\n    </tr>\n  </tbody>\n</table>\n<p>127 rows × 33 columns</p>\n</div>"
     },
     "metadata": {},
     "execution_count": 7
    }
   ],
   "source": [
    "data = data.dropna(how='any')\n",
    "data"
   ]
  },
  {
   "source": [
    "# Output CSV"
   ],
   "cell_type": "markdown",
   "metadata": {}
  },
  {
   "cell_type": "code",
   "execution_count": 8,
   "metadata": {},
   "outputs": [],
   "source": [
    "data.to_csv('./Data/data.csv', index = False)"
   ]
  },
  {
   "cell_type": "code",
   "execution_count": null,
   "metadata": {},
   "outputs": [],
   "source": []
  }
 ]
}